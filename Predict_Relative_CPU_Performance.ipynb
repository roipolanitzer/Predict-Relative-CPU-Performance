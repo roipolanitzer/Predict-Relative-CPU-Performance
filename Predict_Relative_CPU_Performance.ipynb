{
 "cells": [
  {
   "cell_type": "code",
   "execution_count": 1,
   "metadata": {},
   "outputs": [
    {
     "data": {
      "text/html": [
       "<div>\n",
       "<style scoped>\n",
       "    .dataframe tbody tr th:only-of-type {\n",
       "        vertical-align: middle;\n",
       "    }\n",
       "\n",
       "    .dataframe tbody tr th {\n",
       "        vertical-align: top;\n",
       "    }\n",
       "\n",
       "    .dataframe thead th {\n",
       "        text-align: right;\n",
       "    }\n",
       "</style>\n",
       "<table border=\"1\" class=\"dataframe\">\n",
       "  <thead>\n",
       "    <tr style=\"text-align: right;\">\n",
       "      <th></th>\n",
       "      <th>Vendor_Name</th>\n",
       "      <th>Model_Name</th>\n",
       "      <th>Machine_Cycle_Time</th>\n",
       "      <th>Min_Main_Memory</th>\n",
       "      <th>Max_Main_Memory</th>\n",
       "      <th>Cache_Memory</th>\n",
       "      <th>Min_Channel_Units</th>\n",
       "      <th>Max_Channel_Units</th>\n",
       "      <th>Relative_Performance</th>\n",
       "    </tr>\n",
       "  </thead>\n",
       "  <tbody>\n",
       "    <tr>\n",
       "      <th>0</th>\n",
       "      <td>adviser</td>\n",
       "      <td>32/60</td>\n",
       "      <td>125</td>\n",
       "      <td>256</td>\n",
       "      <td>6000</td>\n",
       "      <td>256</td>\n",
       "      <td>16</td>\n",
       "      <td>128</td>\n",
       "      <td>198</td>\n",
       "    </tr>\n",
       "    <tr>\n",
       "      <th>1</th>\n",
       "      <td>amdahl</td>\n",
       "      <td>470v/7</td>\n",
       "      <td>29</td>\n",
       "      <td>8000</td>\n",
       "      <td>32000</td>\n",
       "      <td>32</td>\n",
       "      <td>8</td>\n",
       "      <td>32</td>\n",
       "      <td>269</td>\n",
       "    </tr>\n",
       "    <tr>\n",
       "      <th>2</th>\n",
       "      <td>amdahl</td>\n",
       "      <td>470v/7a</td>\n",
       "      <td>29</td>\n",
       "      <td>8000</td>\n",
       "      <td>32000</td>\n",
       "      <td>32</td>\n",
       "      <td>8</td>\n",
       "      <td>32</td>\n",
       "      <td>220</td>\n",
       "    </tr>\n",
       "    <tr>\n",
       "      <th>3</th>\n",
       "      <td>amdahl</td>\n",
       "      <td>470v/7b</td>\n",
       "      <td>29</td>\n",
       "      <td>8000</td>\n",
       "      <td>32000</td>\n",
       "      <td>32</td>\n",
       "      <td>8</td>\n",
       "      <td>32</td>\n",
       "      <td>172</td>\n",
       "    </tr>\n",
       "    <tr>\n",
       "      <th>4</th>\n",
       "      <td>amdahl</td>\n",
       "      <td>470v/7c</td>\n",
       "      <td>29</td>\n",
       "      <td>8000</td>\n",
       "      <td>16000</td>\n",
       "      <td>32</td>\n",
       "      <td>8</td>\n",
       "      <td>16</td>\n",
       "      <td>132</td>\n",
       "    </tr>\n",
       "  </tbody>\n",
       "</table>\n",
       "</div>"
      ],
      "text/plain": [
       "  Vendor_Name Model_Name  Machine_Cycle_Time  Min_Main_Memory  \\\n",
       "0     adviser      32/60                 125              256   \n",
       "1      amdahl     470v/7                  29             8000   \n",
       "2      amdahl    470v/7a                  29             8000   \n",
       "3      amdahl    470v/7b                  29             8000   \n",
       "4      amdahl    470v/7c                  29             8000   \n",
       "\n",
       "   Max_Main_Memory  Cache_Memory  Min_Channel_Units  Max_Channel_Units  \\\n",
       "0             6000           256                 16                128   \n",
       "1            32000            32                  8                 32   \n",
       "2            32000            32                  8                 32   \n",
       "3            32000            32                  8                 32   \n",
       "4            16000            32                  8                 16   \n",
       "\n",
       "   Relative_Performance  \n",
       "0                   198  \n",
       "1                   269  \n",
       "2                   220  \n",
       "3                   172  \n",
       "4                   132  "
      ]
     },
     "execution_count": 1,
     "metadata": {},
     "output_type": "execute_result"
    }
   ],
   "source": [
    "import pandas as pd\n",
    "sf = pd.read_csv('Relative_CPU_Performance.csv',encoding='ISO-8859-1')\n",
    "sf.head()"
   ]
  },
  {
   "cell_type": "code",
   "execution_count": 2,
   "metadata": {},
   "outputs": [
    {
     "name": "stdout",
     "output_type": "stream",
     "text": [
      "<class 'pandas.core.frame.DataFrame'>\n",
      "RangeIndex: 209 entries, 0 to 208\n",
      "Data columns (total 9 columns):\n",
      "Vendor_Name             209 non-null object\n",
      "Model_Name              209 non-null object\n",
      "Machine_Cycle_Time      209 non-null int64\n",
      "Min_Main_Memory         209 non-null int64\n",
      "Max_Main_Memory         209 non-null int64\n",
      "Cache_Memory            209 non-null int64\n",
      "Min_Channel_Units       209 non-null int64\n",
      "Max_Channel_Units       209 non-null int64\n",
      "Relative_Performance    209 non-null int64\n",
      "dtypes: int64(7), object(2)\n",
      "memory usage: 14.8+ KB\n"
     ]
    }
   ],
   "source": [
    "sf.info()"
   ]
  },
  {
   "cell_type": "code",
   "execution_count": 3,
   "metadata": {},
   "outputs": [
    {
     "data": {
      "text/html": [
       "<div>\n",
       "<style scoped>\n",
       "    .dataframe tbody tr th:only-of-type {\n",
       "        vertical-align: middle;\n",
       "    }\n",
       "\n",
       "    .dataframe tbody tr th {\n",
       "        vertical-align: top;\n",
       "    }\n",
       "\n",
       "    .dataframe thead th {\n",
       "        text-align: right;\n",
       "    }\n",
       "</style>\n",
       "<table border=\"1\" class=\"dataframe\">\n",
       "  <thead>\n",
       "    <tr style=\"text-align: right;\">\n",
       "      <th></th>\n",
       "      <th>Machine_Cycle_Time</th>\n",
       "      <th>Min_Main_Memory</th>\n",
       "      <th>Max_Main_Memory</th>\n",
       "      <th>Cache_Memory</th>\n",
       "      <th>Min_Channel_Units</th>\n",
       "      <th>Max_Channel_Units</th>\n",
       "      <th>Relative_Performance</th>\n",
       "    </tr>\n",
       "  </thead>\n",
       "  <tbody>\n",
       "    <tr>\n",
       "      <th>count</th>\n",
       "      <td>209.000000</td>\n",
       "      <td>209.000000</td>\n",
       "      <td>209.000000</td>\n",
       "      <td>209.000000</td>\n",
       "      <td>209.000000</td>\n",
       "      <td>209.000000</td>\n",
       "      <td>209.000000</td>\n",
       "    </tr>\n",
       "    <tr>\n",
       "      <th>mean</th>\n",
       "      <td>203.822967</td>\n",
       "      <td>2867.980861</td>\n",
       "      <td>11796.153110</td>\n",
       "      <td>25.205742</td>\n",
       "      <td>4.698565</td>\n",
       "      <td>18.267943</td>\n",
       "      <td>105.622010</td>\n",
       "    </tr>\n",
       "    <tr>\n",
       "      <th>std</th>\n",
       "      <td>260.262926</td>\n",
       "      <td>3878.742758</td>\n",
       "      <td>11726.564377</td>\n",
       "      <td>40.628722</td>\n",
       "      <td>6.816274</td>\n",
       "      <td>25.997318</td>\n",
       "      <td>160.830733</td>\n",
       "    </tr>\n",
       "    <tr>\n",
       "      <th>min</th>\n",
       "      <td>17.000000</td>\n",
       "      <td>64.000000</td>\n",
       "      <td>64.000000</td>\n",
       "      <td>0.000000</td>\n",
       "      <td>0.000000</td>\n",
       "      <td>0.000000</td>\n",
       "      <td>6.000000</td>\n",
       "    </tr>\n",
       "    <tr>\n",
       "      <th>25%</th>\n",
       "      <td>50.000000</td>\n",
       "      <td>768.000000</td>\n",
       "      <td>4000.000000</td>\n",
       "      <td>0.000000</td>\n",
       "      <td>1.000000</td>\n",
       "      <td>5.000000</td>\n",
       "      <td>27.000000</td>\n",
       "    </tr>\n",
       "    <tr>\n",
       "      <th>50%</th>\n",
       "      <td>110.000000</td>\n",
       "      <td>2000.000000</td>\n",
       "      <td>8000.000000</td>\n",
       "      <td>8.000000</td>\n",
       "      <td>2.000000</td>\n",
       "      <td>8.000000</td>\n",
       "      <td>50.000000</td>\n",
       "    </tr>\n",
       "    <tr>\n",
       "      <th>75%</th>\n",
       "      <td>225.000000</td>\n",
       "      <td>4000.000000</td>\n",
       "      <td>16000.000000</td>\n",
       "      <td>32.000000</td>\n",
       "      <td>6.000000</td>\n",
       "      <td>24.000000</td>\n",
       "      <td>113.000000</td>\n",
       "    </tr>\n",
       "    <tr>\n",
       "      <th>max</th>\n",
       "      <td>1500.000000</td>\n",
       "      <td>32000.000000</td>\n",
       "      <td>64000.000000</td>\n",
       "      <td>256.000000</td>\n",
       "      <td>52.000000</td>\n",
       "      <td>176.000000</td>\n",
       "      <td>1150.000000</td>\n",
       "    </tr>\n",
       "  </tbody>\n",
       "</table>\n",
       "</div>"
      ],
      "text/plain": [
       "       Machine_Cycle_Time  Min_Main_Memory  Max_Main_Memory  Cache_Memory  \\\n",
       "count          209.000000       209.000000       209.000000    209.000000   \n",
       "mean           203.822967      2867.980861     11796.153110     25.205742   \n",
       "std            260.262926      3878.742758     11726.564377     40.628722   \n",
       "min             17.000000        64.000000        64.000000      0.000000   \n",
       "25%             50.000000       768.000000      4000.000000      0.000000   \n",
       "50%            110.000000      2000.000000      8000.000000      8.000000   \n",
       "75%            225.000000      4000.000000     16000.000000     32.000000   \n",
       "max           1500.000000     32000.000000     64000.000000    256.000000   \n",
       "\n",
       "       Min_Channel_Units  Max_Channel_Units  Relative_Performance  \n",
       "count         209.000000         209.000000            209.000000  \n",
       "mean            4.698565          18.267943            105.622010  \n",
       "std             6.816274          25.997318            160.830733  \n",
       "min             0.000000           0.000000              6.000000  \n",
       "25%             1.000000           5.000000             27.000000  \n",
       "50%             2.000000           8.000000             50.000000  \n",
       "75%             6.000000          24.000000            113.000000  \n",
       "max            52.000000         176.000000           1150.000000  "
      ]
     },
     "execution_count": 3,
     "metadata": {},
     "output_type": "execute_result"
    }
   ],
   "source": [
    "sf.describe()"
   ]
  },
  {
   "cell_type": "code",
   "execution_count": 4,
   "metadata": {},
   "outputs": [
    {
     "data": {
      "image/png": "[encoded data removed]",
      "text/plain": [
       "<Figure size 1440x1080 with 9 Axes>"
      ]
     },
     "metadata": {
      "needs_background": "light"
     },
     "output_type": "display_data"
    }
   ],
   "source": [
    "%matplotlib inline\n",
    "import matplotlib.pyplot as plt\n",
    "sf.hist(bins=50, figsize=(20,15))\n",
    "plt.savefig(\"attribute_histogram_plots\")\n",
    "plt.show()"
   ]
  },
  {
   "cell_type": "markdown",
   "metadata": {},
   "source": [
    "Observations: \n",
    "\n",
    "1. These variables have very different scales. We will discuss this later in this chapter when we explore feature scaling.\n",
    "\n",
    "2. Many histograms are right skewed: they extend much farther to the right of the median than to the left. This may make it a bit harder for some Machine Learning algorithms to detect patterns. We will try transforming these attributes later on to have more bell-shaped distributions."
   ]
  },
  {
   "cell_type": "code",
   "execution_count": 5,
   "metadata": {},
   "outputs": [
    {
     "data": {
      "image/png": "[encoded data removed]",
      "text/plain": [
       "<Figure size 432x288 with 1 Axes>"
      ]
     },
     "metadata": {
      "needs_background": "light"
     },
     "output_type": "display_data"
    }
   ],
   "source": [
    "sf.plot(kind=\"scatter\", x=\"Machine_Cycle_Time\", y=\"Max_Channel_Units\", alpha=0.2)\n",
    "plt.savefig('map1.png')"
   ]
  },
  {
   "cell_type": "code",
   "execution_count": 6,
   "metadata": {},
   "outputs": [
    {
     "data": {
      "image/png": "[encoded data removed]",
      "text/plain": [
       "<Figure size 720x504 with 2 Axes>"
      ]
     },
     "metadata": {
      "needs_background": "light"
     },
     "output_type": "display_data"
    }
   ],
   "source": [
    "sf.plot(kind=\"scatter\", x=\"Machine_Cycle_Time\", y=\"Max_Channel_Units\", alpha=0.4, figsize=(10,7),\n",
    "    c=\"Relative_Performance\", cmap=plt.get_cmap(\"jet\"), colorbar=True,\n",
    "    sharex=False)\n",
    "plt.savefig('map2.png')"
   ]
  },
  {
   "cell_type": "markdown",
   "metadata": {},
   "source": [
    "Now let’s look at how much each independent variable correlates with the Relative_Performance."
   ]
  },
  {
   "cell_type": "code",
   "execution_count": 7,
   "metadata": {},
   "outputs": [
    {
     "data": {
      "text/plain": [
       "Relative_Performance    1.000000\n",
       "Max_Main_Memory         0.863004\n",
       "Min_Main_Memory         0.794931\n",
       "Cache_Memory            0.662641\n",
       "Min_Channel_Units       0.608903\n",
       "Max_Channel_Units       0.605209\n",
       "Machine_Cycle_Time     -0.307099\n",
       "Name: Relative_Performance, dtype: float64"
      ]
     },
     "execution_count": 7,
     "metadata": {},
     "output_type": "execute_result"
    }
   ],
   "source": [
    "corr_matrix = sf.corr()\n",
    "corr_matrix[\"Relative_Performance\"].sort_values(ascending=False)"
   ]
  },
  {
   "cell_type": "markdown",
   "metadata": {},
   "source": [
    "The Relative_Performance tends to go up when the Max_Main_Memory, Min_Main_Memory, Cache_Memory, Min_Channel_Units and Max_Channel_Units go up. You can see a small negative correlation between the Machine_Cycle_Time and the elative_Performance. "
   ]
  },
  {
   "cell_type": "code",
   "execution_count": 8,
   "metadata": {},
   "outputs": [
    {
     "data": {
      "image/png": "[encoded data removed]",
      "text/plain": [
       "<Figure size 864x576 with 16 Axes>"
      ]
     },
     "metadata": {
      "needs_background": "light"
     },
     "output_type": "display_data"
    }
   ],
   "source": [
    "from pandas.plotting import scatter_matrix\n",
    "\n",
    "attributes = [\"Relative_Performance\", \"Max_Main_Memory\", \"Min_Main_Memory\", \"Cache_Memory\"]\n",
    "scatter_matrix(sf[attributes], figsize=(12, 8))\n",
    "plt.savefig('matrix.png')"
   ]
  },
  {
   "cell_type": "markdown",
   "metadata": {},
   "source": [
    "The most promising variable to predict the Relative_Performance is the Max_Main_Memory, so let’s zoom in on their correlation scatterplot"
   ]
  },
  {
   "cell_type": "code",
   "execution_count": 9,
   "metadata": {},
   "outputs": [
    {
     "data": {
      "image/png": "[encoded data removed]",
      "text/plain": [
       "<Figure size 432x288 with 1 Axes>"
      ]
     },
     "metadata": {
      "needs_background": "light"
     },
     "output_type": "display_data"
    }
   ],
   "source": [
    "sf.plot(kind=\"scatter\", x=\"Max_Main_Memory\", y=\"Relative_Performance\", alpha=0.5)\n",
    "plt.savefig('scatter.png')"
   ]
  },
  {
   "cell_type": "markdown",
   "metadata": {},
   "source": [
    "First, the correlation is indeed very strong; you can clearly see the upward trend and the points are not too dispersed."
   ]
  },
  {
   "cell_type": "markdown",
   "metadata": {},
   "source": [
    "Because each Model_Name has the different Relative_Performance, what we really want is the Relative_Performance per Machine_Cycle_Time. So, we add a new variable \"RP_per_MCT\". "
   ]
  },
  {
   "cell_type": "code",
   "execution_count": 10,
   "metadata": {},
   "outputs": [],
   "source": [
    "sf['RP_per_MCT'] = sf['Relative_Performance']/sf['Machine_Cycle_Time']"
   ]
  },
  {
   "cell_type": "code",
   "execution_count": 11,
   "metadata": {},
   "outputs": [
    {
     "data": {
      "text/plain": [
       "RP_per_MCT              1.000000\n",
       "Relative_Performance    0.967660\n",
       "Min_Main_Memory         0.834718\n",
       "Max_Main_Memory         0.817306\n",
       "Cache_Memory            0.574548\n",
       "Min_Channel_Units       0.561761\n",
       "Max_Channel_Units       0.504456\n",
       "Machine_Cycle_Time     -0.271238\n",
       "Name: RP_per_MCT, dtype: float64"
      ]
     },
     "execution_count": 11,
     "metadata": {},
     "output_type": "execute_result"
    }
   ],
   "source": [
    "corr_matrix = sf.corr()\n",
    "corr_matrix[\"RP_per_MCT\"].sort_values(ascending=False)"
   ]
  },
  {
   "cell_type": "markdown",
   "metadata": {},
   "source": [
    "fortunately, the new RP_per_MCT variable has only a very strong positive correlation with the Relative_Performance. But we still need this varaible for grouping Model_Name."
   ]
  },
  {
   "cell_type": "markdown",
   "metadata": {},
   "source": [
    "We still need this varaible for grouping Model_Name. Also there are 209 Model_Name in the data, we are going to group them."
   ]
  },
  {
   "cell_type": "code",
   "execution_count": 12,
   "metadata": {},
   "outputs": [
    {
     "data": {
      "text/plain": [
       "209"
      ]
     },
     "execution_count": 12,
     "metadata": {},
     "output_type": "execute_result"
    }
   ],
   "source": [
    "len(sf['Model_Name'].value_counts())"
   ]
  },
  {
   "cell_type": "code",
   "execution_count": 13,
   "metadata": {},
   "outputs": [],
   "source": [
    "freq = sf.groupby('Model_Name').count()['Relative_Performance']\n",
    "#mean_RP: average RP_per_MC\n",
    "mean = sf.groupby('Model_Name').mean()['RP_per_MCT']\n",
    "cluster = pd.concat([freq, mean], axis=1)\n",
    "cluster['Model_Name'] = cluster.index"
   ]
  },
  {
   "cell_type": "code",
   "execution_count": 14,
   "metadata": {},
   "outputs": [],
   "source": [
    "cluster.columns = ['freq', 'RP_per_MCT','Model_Name']"
   ]
  },
  {
   "cell_type": "code",
   "execution_count": 15,
   "metadata": {},
   "outputs": [
    {
     "data": {
      "text/html": [
       "<div>\n",
       "<style scoped>\n",
       "    .dataframe tbody tr th:only-of-type {\n",
       "        vertical-align: middle;\n",
       "    }\n",
       "\n",
       "    .dataframe tbody tr th {\n",
       "        vertical-align: top;\n",
       "    }\n",
       "\n",
       "    .dataframe thead th {\n",
       "        text-align: right;\n",
       "    }\n",
       "</style>\n",
       "<table border=\"1\" class=\"dataframe\">\n",
       "  <thead>\n",
       "    <tr style=\"text-align: right;\">\n",
       "      <th></th>\n",
       "      <th>freq</th>\n",
       "      <th>RP_per_MCT</th>\n",
       "    </tr>\n",
       "  </thead>\n",
       "  <tbody>\n",
       "    <tr>\n",
       "      <th>count</th>\n",
       "      <td>209.0</td>\n",
       "      <td>209.000000</td>\n",
       "    </tr>\n",
       "    <tr>\n",
       "      <th>mean</th>\n",
       "      <td>1.0</td>\n",
       "      <td>2.648103</td>\n",
       "    </tr>\n",
       "    <tr>\n",
       "      <th>std</th>\n",
       "      <td>0.0</td>\n",
       "      <td>6.179186</td>\n",
       "    </tr>\n",
       "    <tr>\n",
       "      <th>min</th>\n",
       "      <td>1.0</td>\n",
       "      <td>0.006364</td>\n",
       "    </tr>\n",
       "    <tr>\n",
       "      <th>25%</th>\n",
       "      <td>1.0</td>\n",
       "      <td>0.139583</td>\n",
       "    </tr>\n",
       "    <tr>\n",
       "      <th>50%</th>\n",
       "      <td>1.0</td>\n",
       "      <td>0.426573</td>\n",
       "    </tr>\n",
       "    <tr>\n",
       "      <th>75%</th>\n",
       "      <td>1.0</td>\n",
       "      <td>1.892857</td>\n",
       "    </tr>\n",
       "    <tr>\n",
       "      <th>max</th>\n",
       "      <td>1.0</td>\n",
       "      <td>49.739130</td>\n",
       "    </tr>\n",
       "  </tbody>\n",
       "</table>\n",
       "</div>"
      ],
      "text/plain": [
       "        freq  RP_per_MCT\n",
       "count  209.0  209.000000\n",
       "mean     1.0    2.648103\n",
       "std      0.0    6.179186\n",
       "min      1.0    0.006364\n",
       "25%      1.0    0.139583\n",
       "50%      1.0    0.426573\n",
       "75%      1.0    1.892857\n",
       "max      1.0   49.739130"
      ]
     },
     "execution_count": 15,
     "metadata": {},
     "output_type": "execute_result"
    }
   ],
   "source": [
    "cluster.describe()"
   ]
  },
  {
   "cell_type": "markdown",
   "metadata": {},
   "source": [
    "Cluster the Model_Name into three groups: 1. low RP, 2. high RP low frequency, 3. high RP high frequency"
   ]
  },
  {
   "cell_type": "code",
   "execution_count": 16,
   "metadata": {},
   "outputs": [
    {
     "data": {
      "text/plain": [
       "Index(['100', '3000/iii', '3205', '370/125-2', '370/148', '38/3', '38/4',\n",
       "       '38/5', '38/7', '38/8', '4321', '4331-1', '4331-11', '4331-2', '4341',\n",
       "       '4341-9', '5000', '68/10-80', '7.521', '7.531', '80', '80/3', '80/4',\n",
       "       '80/5', '80/6', '8130-a', '8130-b', '8140', '8890/30', 'b1955', 'dn320',\n",
       "       'dn420', 'dps:6/35', 'dps:6/92', 'dps:6/96', 'dps:7/35', 'dps:7/45',\n",
       "       'eclipse:c/350', 'eclipse:m/600', 'f4000/100', 'f4000/200',\n",
       "       'f4000/200ap', 'f4000/300', 'f4000/300ap', 'microvax-1', 'universe:68',\n",
       "       'universe:68/05', 'universe:68/37', 'v8535:ii', 'vax:11/730',\n",
       "       'vax:11/750', 'vs-90'],\n",
       "      dtype='object', name='Model_Name')"
      ]
     },
     "execution_count": 16,
     "metadata": {},
     "output_type": "execute_result"
    }
   ],
   "source": [
    "cluster1 = cluster[cluster.RP_per_MCT < 0.139583]\n",
    "cluster1.index"
   ]
  },
  {
   "cell_type": "code",
   "execution_count": 17,
   "metadata": {},
   "outputs": [
    {
     "data": {
      "text/plain": [
       "Index(['1100/61-h1', '1636-1', '1636-10', '1641-1', '1641-11', '1651-1',\n",
       "       '2000/260', '300', '3000/30', '3000/40',\n",
       "       ...\n",
       "       'v8555:ii', 'v8565:ii', 'v8565:ii-e', 'v8575:ii', 'v8585:ii',\n",
       "       'v8595:ii', 'v8635', 'vax:11/780', 'vs-100', 'éåì-65'],\n",
       "      dtype='object', name='Model_Name', length=104)"
      ]
     },
     "execution_count": 17,
     "metadata": {},
     "output_type": "execute_result"
    }
   ],
   "source": [
    "cluster_temp = cluster[cluster.RP_per_MCT >= 0.139583]\n",
    "cluster2 = cluster_temp[cluster_temp.RP_per_MCT < 1.892857]\n",
    "cluster2.index"
   ]
  },
  {
   "cell_type": "code",
   "execution_count": 18,
   "metadata": {},
   "outputs": [
    {
     "data": {
      "text/plain": [
       "Index(['1100/81', '1100/82', '1100/83', '1100/84', '1100/93', '1100/94',\n",
       "       '3033:s', '3033:u', '3081', '3081:d', '3083:b', '3083:e', '4361-4',\n",
       "       '4361-5', '4381-1', '4381-2', '4480', '470v/7', '470v/7a', '470v/7b',\n",
       "       '470v/7c', '470v/b', '580-5840', '580-5850', '580-5860', '580-5880',\n",
       "       '7.561', '7.870-2', '7.872-2', '7.875-2', '7.880-2', '7.881-2',\n",
       "       'as/6650', 'as/7000', 'as/8040', 'as/8050', 'as/8060', 'as/9000-dpc',\n",
       "       'as/9000-n', 'as/9040', 'as/9060', 'concept:32/8705', 'concept:32/8750',\n",
       "       'concept:32/8780', 'cyber:170/750', 'cyber:170/760', 'cyber:170/835',\n",
       "       'cyber:170/845', 'v8650', 'v8655', 'v8665', 'v8670', 'éåì-68'],\n",
       "      dtype='object', name='Model_Name')"
      ]
     },
     "execution_count": 18,
     "metadata": {},
     "output_type": "execute_result"
    }
   ],
   "source": [
    "cluster3 = cluster_temp[cluster_temp.RP_per_MCT >=1.892857]\n",
    "cluster3.index"
   ]
  },
  {
   "cell_type": "markdown",
   "metadata": {},
   "source": [
    "Add model column based on the clusters"
   ]
  },
  {
   "cell_type": "code",
   "execution_count": 19,
   "metadata": {},
   "outputs": [],
   "source": [
    "def get_group(x):\n",
    "    if x in cluster1.index:\n",
    "        return 'low_RP'\n",
    "    elif x in cluster2.index:\n",
    "        return 'high_RP_low_freq'\n",
    "    else:\n",
    "        return 'high_RP_high_freq'\n",
    "sf['model'] = sf.Model_Name.apply(get_group)"
   ]
  },
  {
   "cell_type": "code",
   "execution_count": 20,
   "metadata": {},
   "outputs": [
    {
     "data": {
      "text/html": [
       "<div>\n",
       "<style scoped>\n",
       "    .dataframe tbody tr th:only-of-type {\n",
       "        vertical-align: middle;\n",
       "    }\n",
       "\n",
       "    .dataframe tbody tr th {\n",
       "        vertical-align: top;\n",
       "    }\n",
       "\n",
       "    .dataframe thead th {\n",
       "        text-align: right;\n",
       "    }\n",
       "</style>\n",
       "<table border=\"1\" class=\"dataframe\">\n",
       "  <thead>\n",
       "    <tr style=\"text-align: right;\">\n",
       "      <th></th>\n",
       "      <th>Vendor_Name</th>\n",
       "      <th>Model_Name</th>\n",
       "      <th>Machine_Cycle_Time</th>\n",
       "      <th>Min_Main_Memory</th>\n",
       "      <th>Max_Main_Memory</th>\n",
       "      <th>Cache_Memory</th>\n",
       "      <th>Min_Channel_Units</th>\n",
       "      <th>Max_Channel_Units</th>\n",
       "      <th>Relative_Performance</th>\n",
       "      <th>RP_per_MCT</th>\n",
       "      <th>model</th>\n",
       "    </tr>\n",
       "  </thead>\n",
       "  <tbody>\n",
       "    <tr>\n",
       "      <th>0</th>\n",
       "      <td>adviser</td>\n",
       "      <td>32/60</td>\n",
       "      <td>125</td>\n",
       "      <td>256</td>\n",
       "      <td>6000</td>\n",
       "      <td>256</td>\n",
       "      <td>16</td>\n",
       "      <td>128</td>\n",
       "      <td>198</td>\n",
       "      <td>1.584000</td>\n",
       "      <td>high_RP_low_freq</td>\n",
       "    </tr>\n",
       "    <tr>\n",
       "      <th>1</th>\n",
       "      <td>amdahl</td>\n",
       "      <td>470v/7</td>\n",
       "      <td>29</td>\n",
       "      <td>8000</td>\n",
       "      <td>32000</td>\n",
       "      <td>32</td>\n",
       "      <td>8</td>\n",
       "      <td>32</td>\n",
       "      <td>269</td>\n",
       "      <td>9.275862</td>\n",
       "      <td>high_RP_high_freq</td>\n",
       "    </tr>\n",
       "    <tr>\n",
       "      <th>2</th>\n",
       "      <td>amdahl</td>\n",
       "      <td>470v/7a</td>\n",
       "      <td>29</td>\n",
       "      <td>8000</td>\n",
       "      <td>32000</td>\n",
       "      <td>32</td>\n",
       "      <td>8</td>\n",
       "      <td>32</td>\n",
       "      <td>220</td>\n",
       "      <td>7.586207</td>\n",
       "      <td>high_RP_high_freq</td>\n",
       "    </tr>\n",
       "    <tr>\n",
       "      <th>3</th>\n",
       "      <td>amdahl</td>\n",
       "      <td>470v/7b</td>\n",
       "      <td>29</td>\n",
       "      <td>8000</td>\n",
       "      <td>32000</td>\n",
       "      <td>32</td>\n",
       "      <td>8</td>\n",
       "      <td>32</td>\n",
       "      <td>172</td>\n",
       "      <td>5.931034</td>\n",
       "      <td>high_RP_high_freq</td>\n",
       "    </tr>\n",
       "    <tr>\n",
       "      <th>4</th>\n",
       "      <td>amdahl</td>\n",
       "      <td>470v/7c</td>\n",
       "      <td>29</td>\n",
       "      <td>8000</td>\n",
       "      <td>16000</td>\n",
       "      <td>32</td>\n",
       "      <td>8</td>\n",
       "      <td>16</td>\n",
       "      <td>132</td>\n",
       "      <td>4.551724</td>\n",
       "      <td>high_RP_high_freq</td>\n",
       "    </tr>\n",
       "  </tbody>\n",
       "</table>\n",
       "</div>"
      ],
      "text/plain": [
       "  Vendor_Name Model_Name  Machine_Cycle_Time  Min_Main_Memory  \\\n",
       "0     adviser      32/60                 125              256   \n",
       "1      amdahl     470v/7                  29             8000   \n",
       "2      amdahl    470v/7a                  29             8000   \n",
       "3      amdahl    470v/7b                  29             8000   \n",
       "4      amdahl    470v/7c                  29             8000   \n",
       "\n",
       "   Max_Main_Memory  Cache_Memory  Min_Channel_Units  Max_Channel_Units  \\\n",
       "0             6000           256                 16                128   \n",
       "1            32000            32                  8                 32   \n",
       "2            32000            32                  8                 32   \n",
       "3            32000            32                  8                 32   \n",
       "4            16000            32                  8                 16   \n",
       "\n",
       "   Relative_Performance  RP_per_MCT              model  \n",
       "0                   198    1.584000   high_RP_low_freq  \n",
       "1                   269    9.275862  high_RP_high_freq  \n",
       "2                   220    7.586207  high_RP_high_freq  \n",
       "3                   172    5.931034  high_RP_high_freq  \n",
       "4                   132    4.551724  high_RP_high_freq  "
      ]
     },
     "execution_count": 20,
     "metadata": {},
     "output_type": "execute_result"
    }
   ],
   "source": [
    "sf.head()"
   ]
  },
  {
   "cell_type": "code",
   "execution_count": 21,
   "metadata": {},
   "outputs": [
    {
     "data": {
      "text/plain": [
       "30"
      ]
     },
     "execution_count": 21,
     "metadata": {},
     "output_type": "execute_result"
    }
   ],
   "source": [
    "len(sf['Vendor_Name'].value_counts())"
   ]
  },
  {
   "cell_type": "code",
   "execution_count": 22,
   "metadata": {},
   "outputs": [],
   "source": [
    "freq = sf.groupby('Vendor_Name').count()['Relative_Performance']\n",
    "#mean_RP: average RP_per_MC\n",
    "mean = sf.groupby('Vendor_Name').mean()['RP_per_MCT']\n",
    "cluster = pd.concat([freq, mean], axis=1)\n",
    "cluster['Vendor_Name'] = cluster.index"
   ]
  },
  {
   "cell_type": "code",
   "execution_count": 23,
   "metadata": {},
   "outputs": [],
   "source": [
    "cluster.columns = ['freq', 'RP_per_MCT','Vendor_Name']"
   ]
  },
  {
   "cell_type": "code",
   "execution_count": 24,
   "metadata": {},
   "outputs": [
    {
     "data": {
      "text/html": [
       "<div>\n",
       "<style scoped>\n",
       "    .dataframe tbody tr th:only-of-type {\n",
       "        vertical-align: middle;\n",
       "    }\n",
       "\n",
       "    .dataframe tbody tr th {\n",
       "        vertical-align: top;\n",
       "    }\n",
       "\n",
       "    .dataframe thead th {\n",
       "        text-align: right;\n",
       "    }\n",
       "</style>\n",
       "<table border=\"1\" class=\"dataframe\">\n",
       "  <thead>\n",
       "    <tr style=\"text-align: right;\">\n",
       "      <th></th>\n",
       "      <th>freq</th>\n",
       "      <th>RP_per_MCT</th>\n",
       "    </tr>\n",
       "  </thead>\n",
       "  <tbody>\n",
       "    <tr>\n",
       "      <th>count</th>\n",
       "      <td>30.000000</td>\n",
       "      <td>30.000000</td>\n",
       "    </tr>\n",
       "    <tr>\n",
       "      <th>mean</th>\n",
       "      <td>6.966667</td>\n",
       "      <td>1.761274</td>\n",
       "    </tr>\n",
       "    <tr>\n",
       "      <th>std</th>\n",
       "      <td>6.483312</td>\n",
       "      <td>3.323933</td>\n",
       "    </tr>\n",
       "    <tr>\n",
       "      <th>min</th>\n",
       "      <td>1.000000</td>\n",
       "      <td>0.021000</td>\n",
       "    </tr>\n",
       "    <tr>\n",
       "      <th>25%</th>\n",
       "      <td>2.250000</td>\n",
       "      <td>0.194286</td>\n",
       "    </tr>\n",
       "    <tr>\n",
       "      <th>50%</th>\n",
       "      <td>6.000000</td>\n",
       "      <td>0.402153</td>\n",
       "    </tr>\n",
       "    <tr>\n",
       "      <th>75%</th>\n",
       "      <td>8.750000</td>\n",
       "      <td>2.006000</td>\n",
       "    </tr>\n",
       "    <tr>\n",
       "      <th>max</th>\n",
       "      <td>32.000000</td>\n",
       "      <td>17.131588</td>\n",
       "    </tr>\n",
       "  </tbody>\n",
       "</table>\n",
       "</div>"
      ],
      "text/plain": [
       "            freq  RP_per_MCT\n",
       "count  30.000000   30.000000\n",
       "mean    6.966667    1.761274\n",
       "std     6.483312    3.323933\n",
       "min     1.000000    0.021000\n",
       "25%     2.250000    0.194286\n",
       "50%     6.000000    0.402153\n",
       "75%     8.750000    2.006000\n",
       "max    32.000000   17.131588"
      ]
     },
     "execution_count": 24,
     "metadata": {},
     "output_type": "execute_result"
    }
   ],
   "source": [
    "cluster.describe()"
   ]
  },
  {
   "cell_type": "markdown",
   "metadata": {},
   "source": [
    "Cluster the Vendor_Name into three groups: 1. low RP, 2. high RP low frequency, 3. high RP high frequency"
   ]
  },
  {
   "cell_type": "code",
   "execution_count": 25,
   "metadata": {},
   "outputs": [
    {
     "data": {
      "text/plain": [
       "Index(['apollo', 'bti', 'c.r.d', 'formation', 'harris', 'nixdorf',\n",
       "       'perkin-elmer', 'wang'],\n",
       "      dtype='object', name='Vendor_Name')"
      ]
     },
     "execution_count": 25,
     "metadata": {},
     "output_type": "execute_result"
    }
   ],
   "source": [
    "cluster1 = cluster[cluster.RP_per_MCT < 0.194286]\n",
    "cluster1.index"
   ]
  },
  {
   "cell_type": "code",
   "execution_count": 26,
   "metadata": {},
   "outputs": [
    {
     "data": {
      "text/plain": [
       "Index(['adviser', 'burroughs', 'cambex', 'dec', 'dg', 'four-phase',\n",
       "       'honeywell', 'hp', 'ipl', 'magnuson', 'microdata', 'ncr', 'prime',\n",
       "       'sratus'],\n",
       "      dtype='object', name='Vendor_Name')"
      ]
     },
     "execution_count": 26,
     "metadata": {},
     "output_type": "execute_result"
    }
   ],
   "source": [
    "cluster_temp = cluster[cluster.RP_per_MCT >= 0.194286]\n",
    "cluster2 = cluster_temp[cluster_temp.RP_per_MCT < 2.006000]\n",
    "cluster2.index"
   ]
  },
  {
   "cell_type": "code",
   "execution_count": 27,
   "metadata": {},
   "outputs": [
    {
     "data": {
      "text/plain": [
       "Index(['amdahl', 'basf', 'cdc', 'gould', 'ibm', 'nas', 'siemens', 'sperry'], dtype='object', name='Vendor_Name')"
      ]
     },
     "execution_count": 27,
     "metadata": {},
     "output_type": "execute_result"
    }
   ],
   "source": [
    "cluster3 = cluster_temp[cluster_temp.RP_per_MCT >=2.006000]\n",
    "cluster3.index"
   ]
  },
  {
   "cell_type": "code",
   "execution_count": 28,
   "metadata": {},
   "outputs": [],
   "source": [
    "def get_group(x):\n",
    "    if x in cluster1.index:\n",
    "        return 'low_RP'\n",
    "    elif x in cluster2.index:\n",
    "        return 'high_RP_low_freq'\n",
    "    else:\n",
    "        return 'high_RP_high_freq'\n",
    "sf['vendor'] = sf.Vendor_Name.apply(get_group)"
   ]
  },
  {
   "cell_type": "code",
   "execution_count": 29,
   "metadata": {},
   "outputs": [
    {
     "data": {
      "text/html": [
       "<div>\n",
       "<style scoped>\n",
       "    .dataframe tbody tr th:only-of-type {\n",
       "        vertical-align: middle;\n",
       "    }\n",
       "\n",
       "    .dataframe tbody tr th {\n",
       "        vertical-align: top;\n",
       "    }\n",
       "\n",
       "    .dataframe thead th {\n",
       "        text-align: right;\n",
       "    }\n",
       "</style>\n",
       "<table border=\"1\" class=\"dataframe\">\n",
       "  <thead>\n",
       "    <tr style=\"text-align: right;\">\n",
       "      <th></th>\n",
       "      <th>Vendor_Name</th>\n",
       "      <th>Model_Name</th>\n",
       "      <th>Machine_Cycle_Time</th>\n",
       "      <th>Min_Main_Memory</th>\n",
       "      <th>Max_Main_Memory</th>\n",
       "      <th>Cache_Memory</th>\n",
       "      <th>Min_Channel_Units</th>\n",
       "      <th>Max_Channel_Units</th>\n",
       "      <th>Relative_Performance</th>\n",
       "      <th>RP_per_MCT</th>\n",
       "      <th>model</th>\n",
       "      <th>vendor</th>\n",
       "    </tr>\n",
       "  </thead>\n",
       "  <tbody>\n",
       "    <tr>\n",
       "      <th>0</th>\n",
       "      <td>adviser</td>\n",
       "      <td>32/60</td>\n",
       "      <td>125</td>\n",
       "      <td>256</td>\n",
       "      <td>6000</td>\n",
       "      <td>256</td>\n",
       "      <td>16</td>\n",
       "      <td>128</td>\n",
       "      <td>198</td>\n",
       "      <td>1.584000</td>\n",
       "      <td>high_RP_low_freq</td>\n",
       "      <td>high_RP_low_freq</td>\n",
       "    </tr>\n",
       "    <tr>\n",
       "      <th>1</th>\n",
       "      <td>amdahl</td>\n",
       "      <td>470v/7</td>\n",
       "      <td>29</td>\n",
       "      <td>8000</td>\n",
       "      <td>32000</td>\n",
       "      <td>32</td>\n",
       "      <td>8</td>\n",
       "      <td>32</td>\n",
       "      <td>269</td>\n",
       "      <td>9.275862</td>\n",
       "      <td>high_RP_high_freq</td>\n",
       "      <td>high_RP_high_freq</td>\n",
       "    </tr>\n",
       "    <tr>\n",
       "      <th>2</th>\n",
       "      <td>amdahl</td>\n",
       "      <td>470v/7a</td>\n",
       "      <td>29</td>\n",
       "      <td>8000</td>\n",
       "      <td>32000</td>\n",
       "      <td>32</td>\n",
       "      <td>8</td>\n",
       "      <td>32</td>\n",
       "      <td>220</td>\n",
       "      <td>7.586207</td>\n",
       "      <td>high_RP_high_freq</td>\n",
       "      <td>high_RP_high_freq</td>\n",
       "    </tr>\n",
       "    <tr>\n",
       "      <th>3</th>\n",
       "      <td>amdahl</td>\n",
       "      <td>470v/7b</td>\n",
       "      <td>29</td>\n",
       "      <td>8000</td>\n",
       "      <td>32000</td>\n",
       "      <td>32</td>\n",
       "      <td>8</td>\n",
       "      <td>32</td>\n",
       "      <td>172</td>\n",
       "      <td>5.931034</td>\n",
       "      <td>high_RP_high_freq</td>\n",
       "      <td>high_RP_high_freq</td>\n",
       "    </tr>\n",
       "    <tr>\n",
       "      <th>4</th>\n",
       "      <td>amdahl</td>\n",
       "      <td>470v/7c</td>\n",
       "      <td>29</td>\n",
       "      <td>8000</td>\n",
       "      <td>16000</td>\n",
       "      <td>32</td>\n",
       "      <td>8</td>\n",
       "      <td>16</td>\n",
       "      <td>132</td>\n",
       "      <td>4.551724</td>\n",
       "      <td>high_RP_high_freq</td>\n",
       "      <td>high_RP_high_freq</td>\n",
       "    </tr>\n",
       "  </tbody>\n",
       "</table>\n",
       "</div>"
      ],
      "text/plain": [
       "  Vendor_Name Model_Name  Machine_Cycle_Time  Min_Main_Memory  \\\n",
       "0     adviser      32/60                 125              256   \n",
       "1      amdahl     470v/7                  29             8000   \n",
       "2      amdahl    470v/7a                  29             8000   \n",
       "3      amdahl    470v/7b                  29             8000   \n",
       "4      amdahl    470v/7c                  29             8000   \n",
       "\n",
       "   Max_Main_Memory  Cache_Memory  Min_Channel_Units  Max_Channel_Units  \\\n",
       "0             6000           256                 16                128   \n",
       "1            32000            32                  8                 32   \n",
       "2            32000            32                  8                 32   \n",
       "3            32000            32                  8                 32   \n",
       "4            16000            32                  8                 16   \n",
       "\n",
       "   Relative_Performance  RP_per_MCT              model             vendor  \n",
       "0                   198    1.584000   high_RP_low_freq   high_RP_low_freq  \n",
       "1                   269    9.275862  high_RP_high_freq  high_RP_high_freq  \n",
       "2                   220    7.586207  high_RP_high_freq  high_RP_high_freq  \n",
       "3                   172    5.931034  high_RP_high_freq  high_RP_high_freq  \n",
       "4                   132    4.551724  high_RP_high_freq  high_RP_high_freq  "
      ]
     },
     "execution_count": 29,
     "metadata": {},
     "output_type": "execute_result"
    }
   ],
   "source": [
    "sf.head()"
   ]
  },
  {
   "cell_type": "code",
   "execution_count": 30,
   "metadata": {},
   "outputs": [
    {
     "data": {
      "text/html": [
       "<div>\n",
       "<style scoped>\n",
       "    .dataframe tbody tr th:only-of-type {\n",
       "        vertical-align: middle;\n",
       "    }\n",
       "\n",
       "    .dataframe tbody tr th {\n",
       "        vertical-align: top;\n",
       "    }\n",
       "\n",
       "    .dataframe thead th {\n",
       "        text-align: right;\n",
       "    }\n",
       "</style>\n",
       "<table border=\"1\" class=\"dataframe\">\n",
       "  <thead>\n",
       "    <tr style=\"text-align: right;\">\n",
       "      <th></th>\n",
       "      <th>Machine_Cycle_Time</th>\n",
       "      <th>Min_Main_Memory</th>\n",
       "      <th>Max_Main_Memory</th>\n",
       "      <th>Cache_Memory</th>\n",
       "      <th>Min_Channel_Units</th>\n",
       "      <th>Max_Channel_Units</th>\n",
       "      <th>Relative_Performance</th>\n",
       "      <th>model</th>\n",
       "      <th>vendor</th>\n",
       "    </tr>\n",
       "  </thead>\n",
       "  <tbody>\n",
       "    <tr>\n",
       "      <th>0</th>\n",
       "      <td>125</td>\n",
       "      <td>256</td>\n",
       "      <td>6000</td>\n",
       "      <td>256</td>\n",
       "      <td>16</td>\n",
       "      <td>128</td>\n",
       "      <td>198</td>\n",
       "      <td>high_RP_low_freq</td>\n",
       "      <td>high_RP_low_freq</td>\n",
       "    </tr>\n",
       "    <tr>\n",
       "      <th>1</th>\n",
       "      <td>29</td>\n",
       "      <td>8000</td>\n",
       "      <td>32000</td>\n",
       "      <td>32</td>\n",
       "      <td>8</td>\n",
       "      <td>32</td>\n",
       "      <td>269</td>\n",
       "      <td>high_RP_high_freq</td>\n",
       "      <td>high_RP_high_freq</td>\n",
       "    </tr>\n",
       "    <tr>\n",
       "      <th>2</th>\n",
       "      <td>29</td>\n",
       "      <td>8000</td>\n",
       "      <td>32000</td>\n",
       "      <td>32</td>\n",
       "      <td>8</td>\n",
       "      <td>32</td>\n",
       "      <td>220</td>\n",
       "      <td>high_RP_high_freq</td>\n",
       "      <td>high_RP_high_freq</td>\n",
       "    </tr>\n",
       "    <tr>\n",
       "      <th>3</th>\n",
       "      <td>29</td>\n",
       "      <td>8000</td>\n",
       "      <td>32000</td>\n",
       "      <td>32</td>\n",
       "      <td>8</td>\n",
       "      <td>32</td>\n",
       "      <td>172</td>\n",
       "      <td>high_RP_high_freq</td>\n",
       "      <td>high_RP_high_freq</td>\n",
       "    </tr>\n",
       "    <tr>\n",
       "      <th>4</th>\n",
       "      <td>29</td>\n",
       "      <td>8000</td>\n",
       "      <td>16000</td>\n",
       "      <td>32</td>\n",
       "      <td>8</td>\n",
       "      <td>16</td>\n",
       "      <td>132</td>\n",
       "      <td>high_RP_high_freq</td>\n",
       "      <td>high_RP_high_freq</td>\n",
       "    </tr>\n",
       "  </tbody>\n",
       "</table>\n",
       "</div>"
      ],
      "text/plain": [
       "   Machine_Cycle_Time  Min_Main_Memory  Max_Main_Memory  Cache_Memory  \\\n",
       "0                 125              256             6000           256   \n",
       "1                  29             8000            32000            32   \n",
       "2                  29             8000            32000            32   \n",
       "3                  29             8000            32000            32   \n",
       "4                  29             8000            16000            32   \n",
       "\n",
       "   Min_Channel_Units  Max_Channel_Units  Relative_Performance  \\\n",
       "0                 16                128                   198   \n",
       "1                  8                 32                   269   \n",
       "2                  8                 32                   220   \n",
       "3                  8                 32                   172   \n",
       "4                  8                 16                   132   \n",
       "\n",
       "               model             vendor  \n",
       "0   high_RP_low_freq   high_RP_low_freq  \n",
       "1  high_RP_high_freq  high_RP_high_freq  \n",
       "2  high_RP_high_freq  high_RP_high_freq  \n",
       "3  high_RP_high_freq  high_RP_high_freq  \n",
       "4  high_RP_high_freq  high_RP_high_freq  "
      ]
     },
     "execution_count": 30,
     "metadata": {},
     "output_type": "execute_result"
    }
   ],
   "source": [
    "sf.drop(sf.columns[[0, 1, 9]], axis=1, inplace=True)\n",
    "sf.head()"
   ]
  },
  {
   "cell_type": "code",
   "execution_count": 31,
   "metadata": {},
   "outputs": [
    {
     "data": {
      "text/plain": [
       "Index(['Machine_Cycle_Time', 'Min_Main_Memory', 'Max_Main_Memory',\n",
       "       'Cache_Memory', 'Min_Channel_Units', 'Max_Channel_Units',\n",
       "       'Relative_Performance', 'model', 'vendor'],\n",
       "      dtype='object')"
      ]
     },
     "execution_count": 31,
     "metadata": {},
     "output_type": "execute_result"
    }
   ],
   "source": [
    "sf.columns"
   ]
  },
  {
   "cell_type": "code",
   "execution_count": 32,
   "metadata": {},
   "outputs": [
    {
     "data": {
      "text/html": [
       "<div>\n",
       "<style scoped>\n",
       "    .dataframe tbody tr th:only-of-type {\n",
       "        vertical-align: middle;\n",
       "    }\n",
       "\n",
       "    .dataframe tbody tr th {\n",
       "        vertical-align: top;\n",
       "    }\n",
       "\n",
       "    .dataframe thead th {\n",
       "        text-align: right;\n",
       "    }\n",
       "</style>\n",
       "<table border=\"1\" class=\"dataframe\">\n",
       "  <thead>\n",
       "    <tr style=\"text-align: right;\">\n",
       "      <th></th>\n",
       "      <th>Machine_Cycle_Time</th>\n",
       "      <th>Min_Main_Memory</th>\n",
       "      <th>Max_Main_Memory</th>\n",
       "      <th>Cache_Memory</th>\n",
       "      <th>Min_Channel_Units</th>\n",
       "      <th>Max_Channel_Units</th>\n",
       "      <th>Relative_Performance</th>\n",
       "      <th>model</th>\n",
       "      <th>vendor</th>\n",
       "    </tr>\n",
       "  </thead>\n",
       "  <tbody>\n",
       "    <tr>\n",
       "      <th>0</th>\n",
       "      <td>125</td>\n",
       "      <td>256</td>\n",
       "      <td>6000</td>\n",
       "      <td>256</td>\n",
       "      <td>16</td>\n",
       "      <td>128</td>\n",
       "      <td>198</td>\n",
       "      <td>high_RP_low_freq</td>\n",
       "      <td>high_RP_low_freq</td>\n",
       "    </tr>\n",
       "    <tr>\n",
       "      <th>1</th>\n",
       "      <td>29</td>\n",
       "      <td>8000</td>\n",
       "      <td>32000</td>\n",
       "      <td>32</td>\n",
       "      <td>8</td>\n",
       "      <td>32</td>\n",
       "      <td>269</td>\n",
       "      <td>high_RP_high_freq</td>\n",
       "      <td>high_RP_high_freq</td>\n",
       "    </tr>\n",
       "    <tr>\n",
       "      <th>2</th>\n",
       "      <td>29</td>\n",
       "      <td>8000</td>\n",
       "      <td>32000</td>\n",
       "      <td>32</td>\n",
       "      <td>8</td>\n",
       "      <td>32</td>\n",
       "      <td>220</td>\n",
       "      <td>high_RP_high_freq</td>\n",
       "      <td>high_RP_high_freq</td>\n",
       "    </tr>\n",
       "    <tr>\n",
       "      <th>3</th>\n",
       "      <td>29</td>\n",
       "      <td>8000</td>\n",
       "      <td>32000</td>\n",
       "      <td>32</td>\n",
       "      <td>8</td>\n",
       "      <td>32</td>\n",
       "      <td>172</td>\n",
       "      <td>high_RP_high_freq</td>\n",
       "      <td>high_RP_high_freq</td>\n",
       "    </tr>\n",
       "    <tr>\n",
       "      <th>4</th>\n",
       "      <td>29</td>\n",
       "      <td>8000</td>\n",
       "      <td>16000</td>\n",
       "      <td>32</td>\n",
       "      <td>8</td>\n",
       "      <td>16</td>\n",
       "      <td>132</td>\n",
       "      <td>high_RP_high_freq</td>\n",
       "      <td>high_RP_high_freq</td>\n",
       "    </tr>\n",
       "  </tbody>\n",
       "</table>\n",
       "</div>"
      ],
      "text/plain": [
       "   Machine_Cycle_Time  Min_Main_Memory  Max_Main_Memory  Cache_Memory  \\\n",
       "0                 125              256             6000           256   \n",
       "1                  29             8000            32000            32   \n",
       "2                  29             8000            32000            32   \n",
       "3                  29             8000            32000            32   \n",
       "4                  29             8000            16000            32   \n",
       "\n",
       "   Min_Channel_Units  Max_Channel_Units  Relative_Performance  \\\n",
       "0                 16                128                   198   \n",
       "1                  8                 32                   269   \n",
       "2                  8                 32                   220   \n",
       "3                  8                 32                   172   \n",
       "4                  8                 16                   132   \n",
       "\n",
       "               model             vendor  \n",
       "0   high_RP_low_freq   high_RP_low_freq  \n",
       "1  high_RP_high_freq  high_RP_high_freq  \n",
       "2  high_RP_high_freq  high_RP_high_freq  \n",
       "3  high_RP_high_freq  high_RP_high_freq  \n",
       "4  high_RP_high_freq  high_RP_high_freq  "
      ]
     },
     "execution_count": 32,
     "metadata": {},
     "output_type": "execute_result"
    }
   ],
   "source": [
    "sf = sf[['Machine_Cycle_Time', 'Min_Main_Memory', 'Max_Main_Memory',\n",
    "       'Cache_Memory', 'Min_Channel_Units', 'Max_Channel_Units',\n",
    "       'Relative_Performance', 'model', 'vendor']]\n",
    "sf.head()"
   ]
  },
  {
   "cell_type": "markdown",
   "metadata": {},
   "source": [
    "Create dummy variables for two categorical variables."
   ]
  },
  {
   "cell_type": "code",
   "execution_count": 33,
   "metadata": {},
   "outputs": [],
   "source": [
    "X = sf[['Machine_Cycle_Time', 'Min_Main_Memory', 'Max_Main_Memory',\n",
    "       'Cache_Memory', 'Min_Channel_Units', 'Max_Channel_Units', 'model', 'vendor']]\n",
    "Y = sf['Relative_Performance']\n",
    "#create dummy variables for model\n",
    "n = pd.get_dummies(sf.model)\n",
    "X = pd.concat([X, n], axis=1)"
   ]
  },
  {
   "cell_type": "code",
   "execution_count": 34,
   "metadata": {},
   "outputs": [
    {
     "data": {
      "text/plain": [
       "Index(['Machine_Cycle_Time', 'Min_Main_Memory', 'Max_Main_Memory',\n",
       "       'Cache_Memory', 'Min_Channel_Units', 'Max_Channel_Units', 'model',\n",
       "       'vendor', 'high_RP_high_freq', 'high_RP_low_freq', 'low_RP'],\n",
       "      dtype='object')"
      ]
     },
     "execution_count": 34,
     "metadata": {},
     "output_type": "execute_result"
    }
   ],
   "source": [
    "X.columns"
   ]
  },
  {
   "cell_type": "code",
   "execution_count": 35,
   "metadata": {},
   "outputs": [
    {
     "data": {
      "text/plain": [
       "Index(['Machine_Cycle_Time', 'Min_Main_Memory', 'Max_Main_Memory',\n",
       "       'Cache_Memory', 'Min_Channel_Units', 'Max_Channel_Units', 'model',\n",
       "       'vendor', 'model_high_RP_high_freq', 'model_high_RP_low_freq',\n",
       "       'model_low_RP'],\n",
       "      dtype='object')"
      ]
     },
     "execution_count": 35,
     "metadata": {},
     "output_type": "execute_result"
    }
   ],
   "source": [
    "X2 = X.rename({'low_RP': 'model_low_RP', 'high_RP_low_freq': 'model_high_RP_low_freq', 'high_RP_high_freq': 'model_high_RP_high_freq'}, axis=1)\n",
    "X = X2\n",
    "X.columns"
   ]
  },
  {
   "cell_type": "code",
   "execution_count": 36,
   "metadata": {},
   "outputs": [],
   "source": [
    "m = pd.get_dummies(sf.vendor)\n",
    "X = pd.concat([X, m], axis=1)"
   ]
  },
  {
   "cell_type": "code",
   "execution_count": 37,
   "metadata": {},
   "outputs": [
    {
     "data": {
      "text/plain": [
       "Index(['Machine_Cycle_Time', 'Min_Main_Memory', 'Max_Main_Memory',\n",
       "       'Cache_Memory', 'Min_Channel_Units', 'Max_Channel_Units', 'model',\n",
       "       'vendor', 'model_high_RP_high_freq', 'model_high_RP_low_freq',\n",
       "       'model_low_RP', 'high_RP_high_freq', 'high_RP_low_freq', 'low_RP'],\n",
       "      dtype='object')"
      ]
     },
     "execution_count": 37,
     "metadata": {},
     "output_type": "execute_result"
    }
   ],
   "source": [
    "X.columns"
   ]
  },
  {
   "cell_type": "code",
   "execution_count": 38,
   "metadata": {},
   "outputs": [
    {
     "data": {
      "text/plain": [
       "Index(['Machine_Cycle_Time', 'Min_Main_Memory', 'Max_Main_Memory',\n",
       "       'Cache_Memory', 'Min_Channel_Units', 'Max_Channel_Units', 'model',\n",
       "       'vendor', 'model_high_RP_high_freq', 'model_high_RP_low_freq',\n",
       "       'model_low_RP', 'vendor_high_RP_high_freq', 'vendor_high_RP_low_freq',\n",
       "       'vendor_low_RP'],\n",
       "      dtype='object')"
      ]
     },
     "execution_count": 38,
     "metadata": {},
     "output_type": "execute_result"
    }
   ],
   "source": [
    "X2 = X.rename({'low_RP': 'vendor_low_RP', 'high_RP_low_freq': 'vendor_high_RP_low_freq', 'high_RP_high_freq': 'vendor_high_RP_high_freq'}, axis=1)\n",
    "X = X2\n",
    "X.columns"
   ]
  },
  {
   "cell_type": "code",
   "execution_count": 39,
   "metadata": {},
   "outputs": [],
   "source": [
    "drops = ['model', 'vendor']\n",
    "X.drop(drops, inplace=True, axis=1)"
   ]
  },
  {
   "cell_type": "code",
   "execution_count": 40,
   "metadata": {},
   "outputs": [
    {
     "data": {
      "text/html": [
       "<div>\n",
       "<style scoped>\n",
       "    .dataframe tbody tr th:only-of-type {\n",
       "        vertical-align: middle;\n",
       "    }\n",
       "\n",
       "    .dataframe tbody tr th {\n",
       "        vertical-align: top;\n",
       "    }\n",
       "\n",
       "    .dataframe thead th {\n",
       "        text-align: right;\n",
       "    }\n",
       "</style>\n",
       "<table border=\"1\" class=\"dataframe\">\n",
       "  <thead>\n",
       "    <tr style=\"text-align: right;\">\n",
       "      <th></th>\n",
       "      <th>Machine_Cycle_Time</th>\n",
       "      <th>Min_Main_Memory</th>\n",
       "      <th>Max_Main_Memory</th>\n",
       "      <th>Cache_Memory</th>\n",
       "      <th>Min_Channel_Units</th>\n",
       "      <th>Max_Channel_Units</th>\n",
       "      <th>model_high_RP_high_freq</th>\n",
       "      <th>model_high_RP_low_freq</th>\n",
       "      <th>model_low_RP</th>\n",
       "      <th>vendor_high_RP_high_freq</th>\n",
       "      <th>vendor_high_RP_low_freq</th>\n",
       "      <th>vendor_low_RP</th>\n",
       "    </tr>\n",
       "  </thead>\n",
       "  <tbody>\n",
       "    <tr>\n",
       "      <th>0</th>\n",
       "      <td>125</td>\n",
       "      <td>256</td>\n",
       "      <td>6000</td>\n",
       "      <td>256</td>\n",
       "      <td>16</td>\n",
       "      <td>128</td>\n",
       "      <td>0</td>\n",
       "      <td>1</td>\n",
       "      <td>0</td>\n",
       "      <td>0</td>\n",
       "      <td>1</td>\n",
       "      <td>0</td>\n",
       "    </tr>\n",
       "    <tr>\n",
       "      <th>1</th>\n",
       "      <td>29</td>\n",
       "      <td>8000</td>\n",
       "      <td>32000</td>\n",
       "      <td>32</td>\n",
       "      <td>8</td>\n",
       "      <td>32</td>\n",
       "      <td>1</td>\n",
       "      <td>0</td>\n",
       "      <td>0</td>\n",
       "      <td>1</td>\n",
       "      <td>0</td>\n",
       "      <td>0</td>\n",
       "    </tr>\n",
       "    <tr>\n",
       "      <th>2</th>\n",
       "      <td>29</td>\n",
       "      <td>8000</td>\n",
       "      <td>32000</td>\n",
       "      <td>32</td>\n",
       "      <td>8</td>\n",
       "      <td>32</td>\n",
       "      <td>1</td>\n",
       "      <td>0</td>\n",
       "      <td>0</td>\n",
       "      <td>1</td>\n",
       "      <td>0</td>\n",
       "      <td>0</td>\n",
       "    </tr>\n",
       "    <tr>\n",
       "      <th>3</th>\n",
       "      <td>29</td>\n",
       "      <td>8000</td>\n",
       "      <td>32000</td>\n",
       "      <td>32</td>\n",
       "      <td>8</td>\n",
       "      <td>32</td>\n",
       "      <td>1</td>\n",
       "      <td>0</td>\n",
       "      <td>0</td>\n",
       "      <td>1</td>\n",
       "      <td>0</td>\n",
       "      <td>0</td>\n",
       "    </tr>\n",
       "    <tr>\n",
       "      <th>4</th>\n",
       "      <td>29</td>\n",
       "      <td>8000</td>\n",
       "      <td>16000</td>\n",
       "      <td>32</td>\n",
       "      <td>8</td>\n",
       "      <td>16</td>\n",
       "      <td>1</td>\n",
       "      <td>0</td>\n",
       "      <td>0</td>\n",
       "      <td>1</td>\n",
       "      <td>0</td>\n",
       "      <td>0</td>\n",
       "    </tr>\n",
       "  </tbody>\n",
       "</table>\n",
       "</div>"
      ],
      "text/plain": [
       "   Machine_Cycle_Time  Min_Main_Memory  Max_Main_Memory  Cache_Memory  \\\n",
       "0                 125              256             6000           256   \n",
       "1                  29             8000            32000            32   \n",
       "2                  29             8000            32000            32   \n",
       "3                  29             8000            32000            32   \n",
       "4                  29             8000            16000            32   \n",
       "\n",
       "   Min_Channel_Units  Max_Channel_Units  model_high_RP_high_freq  \\\n",
       "0                 16                128                        0   \n",
       "1                  8                 32                        1   \n",
       "2                  8                 32                        1   \n",
       "3                  8                 32                        1   \n",
       "4                  8                 16                        1   \n",
       "\n",
       "   model_high_RP_low_freq  model_low_RP  vendor_high_RP_high_freq  \\\n",
       "0                       1             0                         0   \n",
       "1                       0             0                         1   \n",
       "2                       0             0                         1   \n",
       "3                       0             0                         1   \n",
       "4                       0             0                         1   \n",
       "\n",
       "   vendor_high_RP_low_freq  vendor_low_RP  \n",
       "0                        1              0  \n",
       "1                        0              0  \n",
       "2                        0              0  \n",
       "3                        0              0  \n",
       "4                        0              0  "
      ]
     },
     "execution_count": 40,
     "metadata": {},
     "output_type": "execute_result"
    }
   ],
   "source": [
    "X.head()"
   ]
  },
  {
   "cell_type": "code",
   "execution_count": 41,
   "metadata": {},
   "outputs": [
    {
     "data": {
      "text/plain": [
       "(209, 12)"
      ]
     },
     "execution_count": 41,
     "metadata": {},
     "output_type": "execute_result"
    }
   ],
   "source": [
    "X.shape"
   ]
  },
  {
   "cell_type": "code",
   "execution_count": 42,
   "metadata": {},
   "outputs": [
    {
     "data": {
      "text/plain": [
       "Index(['Machine_Cycle_Time', 'Min_Main_Memory', 'Max_Main_Memory',\n",
       "       'Cache_Memory', 'Min_Channel_Units', 'Max_Channel_Units',\n",
       "       'model_high_RP_high_freq', 'model_high_RP_low_freq', 'model_low_RP',\n",
       "       'vendor_high_RP_high_freq', 'vendor_high_RP_low_freq', 'vendor_low_RP'],\n",
       "      dtype='object')"
      ]
     },
     "execution_count": 42,
     "metadata": {},
     "output_type": "execute_result"
    }
   ],
   "source": [
    "X.columns"
   ]
  },
  {
   "cell_type": "code",
   "execution_count": 43,
   "metadata": {},
   "outputs": [
    {
     "data": {
      "text/plain": [
       "(209,)"
      ]
     },
     "execution_count": 43,
     "metadata": {},
     "output_type": "execute_result"
    }
   ],
   "source": [
    "Y.shape"
   ]
  },
  {
   "cell_type": "markdown",
   "metadata": {},
   "source": [
    "Standardization of the data"
   ]
  },
  {
   "cell_type": "code",
   "execution_count": 44,
   "metadata": {},
   "outputs": [],
   "source": [
    "from sklearn.preprocessing import StandardScaler\n",
    "scaler = StandardScaler()\n",
    "X = scaler.fit_transform(X)"
   ]
  },
  {
   "cell_type": "code",
   "execution_count": 45,
   "metadata": {},
   "outputs": [],
   "source": [
    "from sklearn.model_selection import train_test_split\n",
    "\n",
    "X_train, X_test, y_train, y_test = train_test_split(X, Y, test_size=0.3, random_state=0)"
   ]
  },
  {
   "cell_type": "code",
   "execution_count": 46,
   "metadata": {},
   "outputs": [
    {
     "data": {
      "text/plain": [
       "LinearRegression(copy_X=True, fit_intercept=True, n_jobs=None, normalize=False)"
      ]
     },
     "execution_count": 46,
     "metadata": {},
     "output_type": "execute_result"
    }
   ],
   "source": [
    "from sklearn.linear_model import LinearRegression\n",
    "regressor = LinearRegression()\n",
    "regressor.fit(X_train, y_train)"
   ]
  },
  {
   "cell_type": "markdown",
   "metadata": {},
   "source": [
    "Done! We now have a working Linear Regression model."
   ]
  },
  {
   "cell_type": "code",
   "execution_count": 47,
   "metadata": {},
   "outputs": [
    {
     "name": "stdout",
     "output_type": "stream",
     "text": [
      "Liner Regression R squared: 0.9016\n"
     ]
    }
   ],
   "source": [
    "y_pred = regressor.predict(X_test)\n",
    "print('Liner Regression R squared: %.4f' % regressor.score(X_test, y_test))"
   ]
  },
  {
   "cell_type": "markdown",
   "metadata": {},
   "source": [
    "So, in our model, 90.16% of the variability in Y can be explained using X. It is exciting."
   ]
  },
  {
   "cell_type": "markdown",
   "metadata": {},
   "source": [
    "Calculate root-mean-square error (RMSE)"
   ]
  },
  {
   "cell_type": "code",
   "execution_count": 48,
   "metadata": {},
   "outputs": [
    {
     "name": "stdout",
     "output_type": "stream",
     "text": [
      "Liner Regression RMSE: 41.6221\n"
     ]
    }
   ],
   "source": [
    "import numpy as np\n",
    "from sklearn.metrics import mean_squared_error\n",
    "lin_mse = mean_squared_error(y_pred, y_test)\n",
    "lin_rmse = np.sqrt(lin_mse)\n",
    "print('Liner Regression RMSE: %.4f' % lin_rmse)"
   ]
  },
  {
   "cell_type": "markdown",
   "metadata": {},
   "source": [
    "Our model was able to predict the Relative_Performance of every Computer Hardware in the test set within 41.6221 of the real Performance."
   ]
  },
  {
   "cell_type": "markdown",
   "metadata": {},
   "source": [
    "Calculate mean absolute error (MAE)"
   ]
  },
  {
   "cell_type": "code",
   "execution_count": 49,
   "metadata": {},
   "outputs": [
    {
     "name": "stdout",
     "output_type": "stream",
     "text": [
      "Liner Regression MAE: 32.8293\n"
     ]
    }
   ],
   "source": [
    "from sklearn.metrics import mean_absolute_error\n",
    "\n",
    "lin_mae = mean_absolute_error(y_pred, y_test)\n",
    "print('Liner Regression MAE: %.4f' % lin_mae)"
   ]
  },
  {
   "cell_type": "markdown",
   "metadata": {},
   "source": [
    "let’s try a more complex model to see whether results can be improved - the RandomForestRegressor"
   ]
  },
  {
   "cell_type": "code",
   "execution_count": 50,
   "metadata": {},
   "outputs": [
    {
     "data": {
      "text/plain": [
       "RandomForestRegressor(bootstrap=True, ccp_alpha=0.0, criterion='mse',\n",
       "                      max_depth=None, max_features='auto', max_leaf_nodes=None,\n",
       "                      max_samples=None, min_impurity_decrease=0.0,\n",
       "                      min_impurity_split=None, min_samples_leaf=1,\n",
       "                      min_samples_split=2, min_weight_fraction_leaf=0.0,\n",
       "                      n_estimators=100, n_jobs=None, oob_score=False,\n",
       "                      random_state=42, verbose=0, warm_start=False)"
      ]
     },
     "execution_count": 50,
     "metadata": {},
     "output_type": "execute_result"
    }
   ],
   "source": [
    "from sklearn.ensemble import RandomForestRegressor\n",
    "\n",
    "forest_reg = RandomForestRegressor(random_state=42)\n",
    "forest_reg.fit(X_train, y_train)"
   ]
  },
  {
   "cell_type": "code",
   "execution_count": 51,
   "metadata": {},
   "outputs": [
    {
     "name": "stdout",
     "output_type": "stream",
     "text": [
      "Random Forest R squared\": 0.9088\n"
     ]
    }
   ],
   "source": [
    "print('Random Forest R squared\": %.4f' % forest_reg.score(X_test, y_test))"
   ]
  },
  {
   "cell_type": "code",
   "execution_count": 52,
   "metadata": {},
   "outputs": [
    {
     "name": "stdout",
     "output_type": "stream",
     "text": [
      "Random Forest RMSE: 40.0675\n"
     ]
    }
   ],
   "source": [
    "y_pred = forest_reg.predict(X_test)\n",
    "forest_mse = mean_squared_error(y_pred, y_test)\n",
    "forest_rmse = np.sqrt(forest_mse)\n",
    "print('Random Forest RMSE: %.4f' % forest_rmse)"
   ]
  },
  {
   "cell_type": "markdown",
   "metadata": {},
   "source": [
    "Much better! Let's try one more."
   ]
  },
  {
   "cell_type": "code",
   "execution_count": 53,
   "metadata": {},
   "outputs": [
    {
     "data": {
      "text/plain": [
       "GradientBoostingRegressor(alpha=0.9, ccp_alpha=0.0, criterion='friedman_mse',\n",
       "                          init=None, learning_rate=0.1, loss='ls', max_depth=3,\n",
       "                          max_features=None, max_leaf_nodes=None,\n",
       "                          min_impurity_decrease=0.0, min_impurity_split=None,\n",
       "                          min_samples_leaf=1, min_samples_split=2,\n",
       "                          min_weight_fraction_leaf=0.0, n_estimators=100,\n",
       "                          n_iter_no_change=None, presort='deprecated',\n",
       "                          random_state=None, subsample=1.0, tol=0.0001,\n",
       "                          validation_fraction=0.1, verbose=0, warm_start=False)"
      ]
     },
     "execution_count": 53,
     "metadata": {},
     "output_type": "execute_result"
    }
   ],
   "source": [
    "from sklearn import ensemble\n",
    "from sklearn.ensemble import GradientBoostingRegressor\n",
    "model = ensemble.GradientBoostingRegressor()\n",
    "model.fit(X_train, y_train)"
   ]
  },
  {
   "cell_type": "code",
   "execution_count": 54,
   "metadata": {},
   "outputs": [
    {
     "name": "stdout",
     "output_type": "stream",
     "text": [
      "Gradient Boosting R squared\": 0.9131\n"
     ]
    }
   ],
   "source": [
    "print('Gradient Boosting R squared\": %.4f' % model.score(X_test, y_test))"
   ]
  },
  {
   "cell_type": "code",
   "execution_count": 55,
   "metadata": {},
   "outputs": [
    {
     "name": "stdout",
     "output_type": "stream",
     "text": [
      "Gradient Boosting RMSE: 39.1233\n"
     ]
    }
   ],
   "source": [
    "y_pred = model.predict(X_test)\n",
    "model_mse = mean_squared_error(y_pred, y_test)\n",
    "model_rmse = np.sqrt(model_mse)\n",
    "print('Gradient Boosting RMSE: %.4f' % model_rmse)"
   ]
  },
  {
   "cell_type": "markdown",
   "metadata": {},
   "source": [
    "I would consider this is our final model, let's print out feature importance"
   ]
  },
  {
   "cell_type": "code",
   "execution_count": 56,
   "metadata": {},
   "outputs": [
    {
     "name": "stdout",
     "output_type": "stream",
     "text": [
      "Max_Main_Memory-71.49%\n",
      "model_high_RP_high_freq-14.65%\n",
      "Cache_Memory-6.60%\n",
      "Min_Channel_Units-2.70%\n",
      "Min_Main_Memory-2.63%\n",
      "Max_Channel_Units-0.96%\n",
      "Machine_Cycle_Time-0.42%\n",
      "vendor_high_RP_low_freq-0.20%\n",
      "vendor_high_RP_high_freq-0.12%\n",
      "model_low_RP-0.10%\n",
      "model_high_RP_low_freq-0.10%\n",
      "vendor_low_RP-0.03%\n"
     ]
    }
   ],
   "source": [
    "feature_labels = np.array(['Machine_Cycle_Time', 'Min_Main_Memory', 'Max_Main_Memory',\n",
    "       'Cache_Memory', 'Min_Channel_Units', 'Max_Channel_Units',\n",
    "       'model_high_RP_high_freq', 'model_high_RP_low_freq', 'model_low_RP',\n",
    "       'vendor_high_RP_high_freq', 'vendor_high_RP_low_freq', 'vendor_low_RP'])\n",
    "importance = model.feature_importances_\n",
    "feature_indexes_by_importance = importance.argsort()[::-1]\n",
    "for index in feature_indexes_by_importance:\n",
    "    print('{}-{:.2f}%'.format(feature_labels[index], (importance[index] *100.0)))"
   ]
  }
 ],
 "metadata": {
  "kernelspec": {
   "display_name": "Python 3",
   "language": "python",
   "name": "python3"
  },
  "language_info": {
   "codemirror_mode": {
    "name": "ipython",
    "version": 3
   },
   "file_extension": ".py",
   "mimetype": "text/x-python",
   "name": "python",
   "nbconvert_exporter": "python",
   "pygments_lexer": "ipython3",
   "version": "3.7.6"
  }
 },
 "nbformat": 4,
 "nbformat_minor": 2
}
